{
  "nbformat": 4,
  "nbformat_minor": 0,
  "metadata": {
    "accelerator": "GPU",
    "anaconda-cloud": {},
    "colab": {
      "provenance": [],
      "gpuType": "T4"
    },
    "kernelspec": {
      "display_name": "Python [conda env:tensorflow]",
      "language": "python",
      "name": "conda-env-tensorflow-py"
    },
    "language_info": {
      "codemirror_mode": {
        "name": "ipython",
        "version": 3
      },
      "file_extension": ".py",
      "mimetype": "text/x-python",
      "name": "python",
      "nbconvert_exporter": "python",
      "pygments_lexer": "ipython3",
      "version": "3.6.5"
    }
  },
  "cells": [
    {
      "cell_type": "markdown",
      "metadata": {
        "id": "kKhMLqYhT-kV"
      },
      "source": [
        "## Assignment: Fashion MNIST\n",
        "Now it is your turn! You are going to use the same methods presented in the previous video in order to classify clothes from a black and white dataset of images (image by Zalando, MIT License):\n",
        "![](https://tensorflow.org/images/fashion-mnist-sprite.png)\n",
        "\n",
        "The class labels are:\n",
        "```\n",
        "0. T-shirt/top\n",
        "1. Trouser\n",
        "2. Pullover\n",
        "3. Dress\n",
        "4. Coat\n",
        "5. Sandal\n",
        "6. Shirt\n",
        "7. Sneaker\n",
        "8. Bag\n",
        "9. Ankle boot\n",
        "```\n",
        "\n",
        "### 1. Preparing the input data\n",
        "Let's first import the dataset. It is available on [tensorflow.keras.datasets](https://keras.io/datasets/):"
      ]
    },
    {
      "cell_type": "code",
      "metadata": {
        "id": "6jmqASUFUhcA"
      },
      "source": [
        "import tensorflow\n",
        "fashion_mnist = tensorflow.keras.datasets.fashion_mnist\n",
        "\n",
        "(X_train, y_train), (X_test, y_test) = fashion_mnist.load_data()"
      ],
      "execution_count": 12,
      "outputs": []
    },
    {
      "cell_type": "code",
      "metadata": {
        "id": "J7HxI9gKHrdo",
        "colab": {
          "base_uri": "https://localhost:8080/"
        },
        "outputId": "9db8e0a9-e2e1-4b68-d811-f8dc4113ea4f"
      },
      "source": [
        "print(\"Shape of the training set: {}\".format(X_train.shape))\n",
        "print(\"Shape of the test set: {}\".format(X_test.shape))"
      ],
      "execution_count": 13,
      "outputs": [
        {
          "output_type": "stream",
          "name": "stdout",
          "text": [
            "Shape of the training set: (60000, 28, 28)\n",
            "Shape of the test set: (10000, 28, 28)\n"
          ]
        }
      ]
    },
    {
      "cell_type": "code",
      "metadata": {
        "collapsed": true,
        "id": "L2ocA0Q5Xl9D"
      },
      "source": [
        "# TODO: Normalize the training and testing set using standardization\n",
        "def normalize(x,m,s):\n",
        "    result = x - m\n",
        "    result = result / s\n",
        "\n",
        "    return result\n",
        "\n",
        "train_mean = X_train.mean()\n",
        "train_std = X_train.std()\n",
        "\n",
        "X_train = normalize(X_train, train_mean, train_std)\n",
        "X_test = normalize(X_test, train_mean, train_std)\n"
      ],
      "execution_count": 14,
      "outputs": []
    },
    {
      "cell_type": "code",
      "metadata": {
        "id": "Ds1WtmpkXmAE",
        "colab": {
          "base_uri": "https://localhost:8080/"
        },
        "outputId": "44ec6d7e-cc2a-4a37-e45a-f6c6821657d9"
      },
      "source": [
        "print(f'Training Mean after standardization {X_train.mean():.3f}')\n",
        "print(f'Training Std after standardization {X_train.std():.3f}')\n",
        "print(f'Test Mean after standardization {X_test.mean():.3f}')\n",
        "print(f'Test Std after standardization {X_test.std():.3f}')"
      ],
      "execution_count": 15,
      "outputs": [
        {
          "output_type": "stream",
          "name": "stdout",
          "text": [
            "Training Mean after standardization -0.000\n",
            "Training Std after standardization 1.000\n",
            "Test Mean after standardization 0.002\n",
            "Test Std after standardization 0.998\n"
          ]
        }
      ]
    },
    {
      "cell_type": "markdown",
      "metadata": {
        "id": "BPzqIUFgszeR"
      },
      "source": [
        "### 2. Training with fully connected layers"
      ]
    },
    {
      "cell_type": "code",
      "metadata": {
        "id": "GLcpBsFuHrdp",
        "colab": {
          "base_uri": "https://localhost:8080/"
        },
        "outputId": "c2f2e19b-ee1a-4016-fbaf-019e4e9d5f37"
      },
      "source": [
        "from tensorflow.keras.models import Sequential\n",
        "from tensorflow.keras.layers import Flatten, Dense\n",
        "\n",
        "model = Sequential([\n",
        "    Flatten(),\n",
        "    Dense(512, activation='relu'),\n",
        "    Dense(10, activation='softmax')\n",
        "])\n",
        "\n",
        "model.compile(optimizer='adam',\n",
        "              loss='sparse_categorical_crossentropy',\n",
        "              metrics=['accuracy'])\n",
        "\n",
        "model.fit(X_train, y_train, epochs=2, validation_data=(X_test, y_test))"
      ],
      "execution_count": 16,
      "outputs": [
        {
          "output_type": "stream",
          "name": "stdout",
          "text": [
            "Epoch 1/2\n",
            "1875/1875 [==============================] - 8s 3ms/step - loss: 0.4530 - accuracy: 0.8357 - val_loss: 0.3910 - val_accuracy: 0.8588\n",
            "Epoch 2/2\n",
            "1875/1875 [==============================] - 5s 3ms/step - loss: 0.3487 - accuracy: 0.8716 - val_loss: 0.3926 - val_accuracy: 0.8549\n"
          ]
        },
        {
          "output_type": "execute_result",
          "data": {
            "text/plain": [
              "<keras.src.callbacks.History at 0x7c5bccf978e0>"
            ]
          },
          "metadata": {},
          "execution_count": 16
        }
      ]
    },
    {
      "cell_type": "markdown",
      "metadata": {
        "id": "2OfsImcOHrdq"
      },
      "source": [
        "### 3. Extending to CNNs\n",
        "Now your goal is to develop an architecture that can reach a test accuracy higher than 0.85."
      ]
    },
    {
      "cell_type": "code",
      "source": [
        "X_test.shape"
      ],
      "metadata": {
        "colab": {
          "base_uri": "https://localhost:8080/"
        },
        "id": "6xIJ5mz3DMxQ",
        "outputId": "ad510a95-f7eb-4701-967a-2f924b6407de"
      },
      "execution_count": 18,
      "outputs": [
        {
          "output_type": "execute_result",
          "data": {
            "text/plain": [
              "(10000, 28, 28)"
            ]
          },
          "metadata": {},
          "execution_count": 18
        }
      ]
    },
    {
      "cell_type": "code",
      "source": [
        "X_train.shape"
      ],
      "metadata": {
        "colab": {
          "base_uri": "https://localhost:8080/"
        },
        "id": "VNBooymRDa23",
        "outputId": "d53c6202-30b7-47b9-a605-f9b7427de7ef"
      },
      "execution_count": 20,
      "outputs": [
        {
          "output_type": "execute_result",
          "data": {
            "text/plain": [
              "(60000, 28, 28, 1)"
            ]
          },
          "metadata": {},
          "execution_count": 20
        }
      ]
    },
    {
      "cell_type": "code",
      "metadata": {
        "collapsed": true,
        "id": "0MXb6rZCHrdq"
      },
      "source": [
        "# TODO: Reshape the dataset in order to add the channel dimension\n",
        "X_train = X_train.reshape(60000, 28, 28, 1)\n",
        "X_test = X_test.reshape(10000, 28, 28, 1)"
      ],
      "execution_count": 19,
      "outputs": []
    },
    {
      "cell_type": "code",
      "metadata": {
        "id": "UnxgT_PfHrdq",
        "colab": {
          "base_uri": "https://localhost:8080/"
        },
        "outputId": "b2ff26ab-677e-4f21-f290-5eefbb5dcf76"
      },
      "source": [
        "from tensorflow.keras.layers import Conv2D, MaxPooling2D\n",
        "\n",
        "model = Sequential([\n",
        "                    Flatten(input_shape=(28, 28)),\n",
        "                    Dense(400, activation='relu'),\n",
        "                    Dense(10, activation='softmax')\n",
        "])\n",
        "\n",
        "model.summary()\n",
        "\n",
        "model.compile(optimizer='adam',\n",
        "              loss='sparse_categorical_crossentropy',\n",
        "              metrics=['accuracy'])\n",
        "\n",
        "model.fit(X_train, y_train, validation_data=(X_test, y_test), epochs=15)"
      ],
      "execution_count": 21,
      "outputs": [
        {
          "output_type": "stream",
          "name": "stdout",
          "text": [
            "Model: \"sequential_1\"\n",
            "_________________________________________________________________\n",
            " Layer (type)                Output Shape              Param #   \n",
            "=================================================================\n",
            " flatten_1 (Flatten)         (None, 784)               0         \n",
            "                                                                 \n",
            " dense_2 (Dense)             (None, 400)               314000    \n",
            "                                                                 \n",
            " dense_3 (Dense)             (None, 10)                4010      \n",
            "                                                                 \n",
            "=================================================================\n",
            "Total params: 318010 (1.21 MB)\n",
            "Trainable params: 318010 (1.21 MB)\n",
            "Non-trainable params: 0 (0.00 Byte)\n",
            "_________________________________________________________________\n",
            "Epoch 1/15\n",
            "1875/1875 [==============================] - 7s 3ms/step - loss: 0.4540 - accuracy: 0.8362 - val_loss: 0.3971 - val_accuracy: 0.8563\n",
            "Epoch 2/15\n",
            "1875/1875 [==============================] - 6s 3ms/step - loss: 0.3472 - accuracy: 0.8728 - val_loss: 0.3786 - val_accuracy: 0.8655\n",
            "Epoch 3/15\n",
            "1875/1875 [==============================] - 7s 4ms/step - loss: 0.3151 - accuracy: 0.8830 - val_loss: 0.3610 - val_accuracy: 0.8738\n",
            "Epoch 4/15\n",
            "1875/1875 [==============================] - 6s 3ms/step - loss: 0.2908 - accuracy: 0.8917 - val_loss: 0.3867 - val_accuracy: 0.8649\n",
            "Epoch 5/15\n",
            "1875/1875 [==============================] - 6s 3ms/step - loss: 0.2720 - accuracy: 0.8992 - val_loss: 0.3526 - val_accuracy: 0.8772\n",
            "Epoch 6/15\n",
            "1875/1875 [==============================] - 5s 3ms/step - loss: 0.2568 - accuracy: 0.9039 - val_loss: 0.3659 - val_accuracy: 0.8757\n",
            "Epoch 7/15\n",
            "1875/1875 [==============================] - 6s 3ms/step - loss: 0.2431 - accuracy: 0.9096 - val_loss: 0.3546 - val_accuracy: 0.8806\n",
            "Epoch 8/15\n",
            "1875/1875 [==============================] - 5s 3ms/step - loss: 0.2316 - accuracy: 0.9135 - val_loss: 0.3446 - val_accuracy: 0.8813\n",
            "Epoch 9/15\n",
            "1875/1875 [==============================] - 6s 3ms/step - loss: 0.2178 - accuracy: 0.9185 - val_loss: 0.3481 - val_accuracy: 0.8851\n",
            "Epoch 10/15\n",
            "1875/1875 [==============================] - 6s 3ms/step - loss: 0.2099 - accuracy: 0.9204 - val_loss: 0.3795 - val_accuracy: 0.8792\n",
            "Epoch 11/15\n",
            "1875/1875 [==============================] - 6s 3ms/step - loss: 0.2018 - accuracy: 0.9241 - val_loss: 0.3735 - val_accuracy: 0.8813\n",
            "Epoch 12/15\n",
            "1875/1875 [==============================] - 5s 3ms/step - loss: 0.1937 - accuracy: 0.9264 - val_loss: 0.3708 - val_accuracy: 0.8846\n",
            "Epoch 13/15\n",
            "1875/1875 [==============================] - 7s 4ms/step - loss: 0.1867 - accuracy: 0.9308 - val_loss: 0.3833 - val_accuracy: 0.8808\n",
            "Epoch 14/15\n",
            "1875/1875 [==============================] - 6s 3ms/step - loss: 0.1800 - accuracy: 0.9323 - val_loss: 0.3913 - val_accuracy: 0.8827\n",
            "Epoch 15/15\n",
            "1875/1875 [==============================] - 6s 3ms/step - loss: 0.1723 - accuracy: 0.9359 - val_loss: 0.4209 - val_accuracy: 0.8759\n"
          ]
        },
        {
          "output_type": "execute_result",
          "data": {
            "text/plain": [
              "<keras.src.callbacks.History at 0x7c5bb0f83490>"
            ]
          },
          "metadata": {},
          "execution_count": 21
        }
      ]
    },
    {
      "cell_type": "markdown",
      "metadata": {
        "collapsed": true,
        "id": "JUprzA49Hrdq"
      },
      "source": [
        "### 4. Visualizing Predictions"
      ]
    },
    {
      "cell_type": "code",
      "metadata": {
        "collapsed": true,
        "id": "qNtKMmXVHrdq",
        "colab": {
          "base_uri": "https://localhost:8080/",
          "height": 1000
        },
        "outputId": "36f70ef4-f7d0-4803-c766-eae2418b6b4f"
      },
      "source": [
        "import numpy as np\n",
        "import matplotlib.pyplot as plt\n",
        "\n",
        "label_names = {0:\"T-shirt/top\",\n",
        "               1:\"Trouser\",\n",
        "               2:\"Pullover\",\n",
        "               3:\"Dress\",\n",
        "               4:\"Coat\",\n",
        "               5:\"Sandal\",\n",
        "               6:\"Shirt\",\n",
        "               7:\"Sneaker\",\n",
        "               8:\"Bag\",\n",
        "               9:\"Ankle boot\"}\n",
        "\n",
        "# Index to be visualized\n",
        "for idx in range(5):\n",
        "    plt.imshow(X_test[idx].reshape(28,28), cmap='gray')\n",
        "    out = model.predict(X_test[idx].reshape(1,28,28,1))\n",
        "    plt.title(\"True: {}, Pred: {}\".format(label_names[y_test[idx]], label_names[np.argmax(out)]))\n",
        "    plt.show()"
      ],
      "execution_count": 22,
      "outputs": [
        {
          "output_type": "stream",
          "name": "stdout",
          "text": [
            "1/1 [==============================] - 0s 151ms/step\n"
          ]
        },
        {
          "output_type": "display_data",
          "data": {
            "text/plain": [
              "<Figure size 640x480 with 1 Axes>"
            ],
            "image/png": "[encoded data removed]"
          },
          "metadata": {}
        },
        {
          "output_type": "stream",
          "name": "stdout",
          "text": [
            "1/1 [==============================] - 0s 80ms/step\n"
          ]
        },
        {
          "output_type": "display_data",
          "data": {
            "text/plain": [
              "<Figure size 640x480 with 1 Axes>"
            ],
            "image/png": "[encoded data removed]"
          },
          "metadata": {}
        },
        {
          "output_type": "stream",
          "name": "stdout",
          "text": [
            "1/1 [==============================] - 0s 56ms/step\n"
          ]
        },
        {
          "output_type": "display_data",
          "data": {
            "text/plain": [
              "<Figure size 640x480 with 1 Axes>"
            ],
            "image/png": "[encoded data removed]"
          },
          "metadata": {}
        },
        {
          "output_type": "stream",
          "name": "stdout",
          "text": [
            "1/1 [==============================] - 0s 59ms/step\n"
          ]
        },
        {
          "output_type": "display_data",
          "data": {
            "text/plain": [
              "<Figure size 640x480 with 1 Axes>"
            ],
            "image/png": "[encoded data removed]"
          },
          "metadata": {}
        },
        {
          "output_type": "stream",
          "name": "stdout",
          "text": [
            "1/1 [==============================] - 0s 31ms/step\n"
          ]
        },
        {
          "output_type": "display_data",
          "data": {
            "text/plain": [
              "<Figure size 640x480 with 1 Axes>"
            ],
            "image/png": "[encoded data removed]"
          },
          "metadata": {}
        }
      ]
    }
  ]
}